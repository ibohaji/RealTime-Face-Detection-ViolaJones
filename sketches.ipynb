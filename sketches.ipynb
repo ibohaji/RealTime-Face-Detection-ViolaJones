{
 "cells": [
  {
   "cell_type": "code",
   "execution_count": 97,
   "metadata": {},
   "outputs": [],
   "source": [
    "import numpy as np \n",
    "\n",
    "X = np.ones((5,5))\n"
   ]
  },
  {
   "cell_type": "code",
   "execution_count": 98,
   "metadata": {},
   "outputs": [],
   "source": [
    "def compute_integral(img):\n",
    "\n",
    "    return np.cumsum(np.cumsum(img, axis=0), axis=1)"
   ]
  },
  {
   "cell_type": "code",
   "execution_count": 147,
   "metadata": {},
   "outputs": [],
   "source": [
    "from skimage.feature  import  haar_like_feature\n",
    "\n",
    "def compute_feature(ii, y, x, w, h):\n",
    "    Area = ii[y + h, x + w] - ii[y, x + w] - ii[y + h, x] + ii[y, x]\n",
    "    return Area"
   ]
  },
  {
   "cell_type": "code",
   "execution_count": 411,
   "metadata": {},
   "outputs": [
    {
     "data": {
      "text/plain": [
       "array([ 0, -1, -1])"
      ]
     },
     "execution_count": 411,
     "metadata": {},
     "output_type": "execute_result"
    }
   ],
   "source": [
    "X= np.array([[2,4],[3,5]])\n",
    "ii = compute_integral(X)\n",
    "haar_like_feature(X,0,0,X.shape[1],X.shape[0],feature_type=\"type-2-x\")"
   ]
  },
  {
   "cell_type": "code",
   "execution_count": 428,
   "metadata": {},
   "outputs": [
    {
     "data": {
      "text/plain": [
       "array([-133,  277, -142,  380,  -76,  315,  233,  195,   75,  -56,  132,\n",
       "        241,   -9,  103,   57,   38,  -38, -158,  188,  297,   66,  -65,\n",
       "       -120,  109])"
      ]
     },
     "execution_count": 428,
     "metadata": {},
     "output_type": "execute_result"
    }
   ],
   "source": [
    "A = np.array([[154,21,254,198],[67,58,20,208],[167,233,113,222]])\n",
    "ii_ = compute_integral(A)\n",
    "haar_like_feature((ii_),0,0,ii_.shape[1],ii_.shape[0],feature_type=\"type-2-x\")"
   ]
  },
  {
   "cell_type": "code",
   "execution_count": null,
   "metadata": {},
   "outputs": [],
   "source": []
  },
  {
   "cell_type": "code",
   "execution_count": 493,
   "metadata": {},
   "outputs": [
    {
     "name": "stdout",
     "output_type": "stream",
     "text": [
      "hallo\n"
     ]
    },
    {
     "ename": "IndexError",
     "evalue": "index 2 is out of bounds for axis 1 with size 2",
     "output_type": "error",
     "traceback": [
      "\u001b[1;31m---------------------------------------------------------------------------\u001b[0m",
      "\u001b[1;31mIndexError\u001b[0m                                Traceback (most recent call last)",
      "Cell \u001b[1;32mIn[493], line 35\u001b[0m\n\u001b[0;32m     31\u001b[0m                 y\u001b[38;5;241m+\u001b[39m\u001b[38;5;241m=\u001b[39m\u001b[38;5;241m1\u001b[39m\n\u001b[0;32m     34\u001b[0m     \u001b[38;5;28;01mreturn\u001b[39;00m features\n\u001b[1;32m---> 35\u001b[0m h \u001b[38;5;241m=\u001b[39m \u001b[43mcompute_2rec\u001b[49m\u001b[43m(\u001b[49m\u001b[43mii\u001b[49m\u001b[43m)\u001b[49m\n",
      "Cell \u001b[1;32mIn[493], line 27\u001b[0m, in \u001b[0;36mcompute_2rec\u001b[1;34m(X)\u001b[0m\n\u001b[0;32m     24\u001b[0m \u001b[38;5;28;01mwhile\u001b[39;00m(x\u001b[38;5;241m+\u001b[39m\u001b[38;5;241m2\u001b[39m\u001b[38;5;241m*\u001b[39mh\u001b[38;5;241m<\u001b[39mX\u001b[38;5;241m.\u001b[39mshape[\u001b[38;5;241m1\u001b[39m]):\n\u001b[0;32m     26\u001b[0m     right \u001b[38;5;241m=\u001b[39m compute_feature(X,y\u001b[38;5;241m+\u001b[39mh,x\u001b[38;5;241m+\u001b[39mw,w,h)\n\u001b[1;32m---> 27\u001b[0m     left \u001b[38;5;241m=\u001b[39m \u001b[43mcompute_feature\u001b[49m\u001b[43m(\u001b[49m\u001b[43mX\u001b[49m\u001b[43m,\u001b[49m\u001b[43my\u001b[49m\u001b[43m,\u001b[49m\u001b[43mw\u001b[49m\u001b[38;5;241;43m+\u001b[39;49m\u001b[38;5;241;43m2\u001b[39;49m\u001b[38;5;241;43m*\u001b[39;49m\u001b[43mx\u001b[49m\u001b[43m,\u001b[49m\u001b[43mw\u001b[49m\u001b[43m,\u001b[49m\u001b[43mh\u001b[49m\u001b[43m)\u001b[49m\n\u001b[0;32m     29\u001b[0m     features\u001b[38;5;241m.\u001b[39mappend(right\u001b[38;5;241m-\u001b[39mleft)\n\u001b[0;32m     30\u001b[0m     x\u001b[38;5;241m+\u001b[39m\u001b[38;5;241m=\u001b[39m\u001b[38;5;241m1\u001b[39m\n",
      "Cell \u001b[1;32mIn[493], line 4\u001b[0m, in \u001b[0;36mcompute_feature\u001b[1;34m(ii, y, x, w, h)\u001b[0m\n\u001b[0;32m      3\u001b[0m \u001b[38;5;28;01mdef\u001b[39;00m \u001b[38;5;21mcompute_feature\u001b[39m(ii, y, x, w, h):\n\u001b[1;32m----> 4\u001b[0m         BR \u001b[38;5;241m=\u001b[39m \u001b[43mii\u001b[49m\u001b[43m[\u001b[49m\u001b[43my\u001b[49m\u001b[38;5;241;43m+\u001b[39;49m\u001b[43mh\u001b[49m\u001b[43m,\u001b[49m\u001b[43mx\u001b[49m\u001b[38;5;241;43m+\u001b[39;49m\u001b[43mw\u001b[49m\u001b[43m]\u001b[49m\n\u001b[0;32m      5\u001b[0m         TL \u001b[38;5;241m=\u001b[39m ii[y\u001b[38;5;241m-\u001b[39m\u001b[38;5;241m1\u001b[39m,x\u001b[38;5;241m-\u001b[39m\u001b[38;5;241m1\u001b[39m] \u001b[38;5;28;01mif\u001b[39;00m y\u001b[38;5;241m>\u001b[39m\u001b[38;5;241m0\u001b[39m \u001b[38;5;129;01mand\u001b[39;00m x\u001b[38;5;241m>\u001b[39m\u001b[38;5;241m0\u001b[39m \u001b[38;5;28;01melse\u001b[39;00m \u001b[38;5;241m0\u001b[39m \n\u001b[0;32m      6\u001b[0m         TR \u001b[38;5;241m=\u001b[39m ii[y\u001b[38;5;241m-\u001b[39m\u001b[38;5;241m1\u001b[39m,x\u001b[38;5;241m+\u001b[39mw] \u001b[38;5;28;01mif\u001b[39;00m y\u001b[38;5;241m>\u001b[39m\u001b[38;5;241m0\u001b[39m \u001b[38;5;28;01melse\u001b[39;00m \u001b[38;5;241m0\u001b[39m \n",
      "\u001b[1;31mIndexError\u001b[0m: index 2 is out of bounds for axis 1 with size 2"
     ]
    }
   ],
   "source": [
    "from skimage.feature  import  haar_like_feature\n",
    "\n",
    "def compute_feature(ii, y, x, w, h):\n",
    "        BR = ii[y+h,x+w]\n",
    "        TL = ii[y-1,x-1] if y>0 and x>0 else 0 \n",
    "        TR = ii[y-1,x+w] if y>0 else 0 \n",
    "        BL = ii[y+h,x-1] if x>0 else 0 \n",
    "\n",
    "        return BR + TL - TR-BL\n",
    "    \n",
    "\n",
    "def compute_2rec(X):\n",
    "    features = [] \n",
    "    print(\"hallo\")\n",
    "\n",
    "    height,width = X.shape\n",
    "    n = 0\n",
    "    for w in range(0,height):\n",
    "        for h in range(0,width):\n",
    "\n",
    "            y = 0 \n",
    "            while(h+y-1<X.shape[0]):\n",
    "                x = 0 \n",
    "                while(x+2*h <X.shape[1]):\n",
    "                    \n",
    "                    right = compute_feature(X,y+h,x+w,w,h)\n",
    "                    left = compute_feature(X,y,w+2*x,w,h)\n",
    "\n",
    "                    features.append(right-left)\n",
    "                    x+=1\n",
    "                y+=1\n",
    "\n",
    "\n",
    "    return features\n",
    "h = compute_2rec(ii)"
   ]
  },
  {
   "cell_type": "code",
   "execution_count": 488,
   "metadata": {},
   "outputs": [
    {
     "data": {
      "text/plain": [
       "[0, 0, 0, 0, 0, 0]"
      ]
     },
     "execution_count": 488,
     "metadata": {},
     "output_type": "execute_result"
    }
   ],
   "source": [
    "h"
   ]
  },
  {
   "cell_type": "code",
   "execution_count": 369,
   "metadata": {},
   "outputs": [
    {
     "name": "stdout",
     "output_type": "stream",
     "text": [
      "[ 0 -1 -1] [-1 -3 -2]\n"
     ]
    }
   ],
   "source": [
    "hh = haar_like_feature(X,0,0,ii.shape[1],ii.shape[0],feature_type=\"type-2-x\")\n",
    "hhh  = haar_like_feature(X,0,0,ii.shape[1],ii.shape[0],feature_type=\"type-2-y\")\n",
    "print(hh,hhh)"
   ]
  },
  {
   "cell_type": "code",
   "execution_count": 483,
   "metadata": {},
   "outputs": [
    {
     "data": {
      "text/plain": [
       "315"
      ]
     },
     "execution_count": 483,
     "metadata": {},
     "output_type": "execute_result"
    }
   ],
   "source": [
    "def compute_feature(ii, y, x, w, h):\n",
    "        BR = ii[y+h,x+w]\n",
    "        TL = ii[y-1,x-1] if y>0 and x>0 else 0 \n",
    "        TR = ii[y-1,x+w] if y>0 else 0 \n",
    "        BL = ii[y+h,x-1] if x>0 else 0 \n",
    "\n",
    "        return BR + TL - TR-BL\n",
    "    \n"
   ]
  },
  {
   "cell_type": "code",
   "execution_count": 473,
   "metadata": {},
   "outputs": [
    {
     "data": {
      "text/plain": [
       "array([ 388,  700, 1087, 1715])"
      ]
     },
     "execution_count": 473,
     "metadata": {},
     "output_type": "execute_result"
    }
   ],
   "source": [
    "ii_[0+2]"
   ]
  },
  {
   "cell_type": "code",
   "execution_count": 500,
   "metadata": {},
   "outputs": [],
   "source": [
    "x = np.array([[1,2,3],[2,4,6],[4,8,12]])"
   ]
  },
  {
   "cell_type": "code",
   "execution_count": 497,
   "metadata": {},
   "outputs": [
    {
     "data": {
      "text/plain": [
       "array([[ 1,  2,  3],\n",
       "       [ 2,  4,  6],\n",
       "       [ 4,  8, 12]])"
      ]
     },
     "execution_count": 497,
     "metadata": {},
     "output_type": "execute_result"
    }
   ],
   "source": [
    "x"
   ]
  },
  {
   "cell_type": "code",
   "execution_count": 521,
   "metadata": {},
   "outputs": [],
   "source": [
    "tt = compute_integral(x)"
   ]
  },
  {
   "cell_type": "code",
   "execution_count": 522,
   "metadata": {},
   "outputs": [
    {
     "data": {
      "text/plain": [
       "array([[ 1,  3,  6],\n",
       "       [ 3,  9, 18],\n",
       "       [ 7, 21, 42]])"
      ]
     },
     "execution_count": 522,
     "metadata": {},
     "output_type": "execute_result"
    }
   ],
   "source": [
    "tt"
   ]
  },
  {
   "cell_type": "code",
   "execution_count": 571,
   "metadata": {},
   "outputs": [],
   "source": [
    "f = haar_like_feature(tt,0,0,x.shape[1],x.shape[0],feature_type=[\"type-2-y\",\"type-2-x\"])\n"
   ]
  },
  {
   "cell_type": "code",
   "execution_count": 578,
   "metadata": {},
   "outputs": [
    {
     "data": {
      "text/plain": [
       "array([ 1,  3,  6,  2,  5,  3,  2,  6, 12,  4, 10,  6,  1,  3,  7,  1,  3,\n",
       "        7,  2,  6,  2,  6,  4,  4])"
      ]
     },
     "execution_count": 578,
     "metadata": {},
     "output_type": "execute_result"
    }
   ],
   "source": [
    "f"
   ]
  },
  {
   "cell_type": "code",
   "execution_count": 623,
   "metadata": {},
   "outputs": [],
   "source": [
    "matrices = [] \n",
    "x = tt \n",
    "h = 0\n",
    "for i in range(0,x.shape[0]):\n",
    "    for j in range(0,x.shape[1]):\n",
    "        h = 1\n",
    "        while(i+h-1<x.shape[1]):\n",
    "            w = 1 \n",
    "            while(j+w-1<x.shape[0]):\n",
    "\n",
    "                if(j+2*w-1<x.shape[0]):\n",
    "                    left = compute_feature(x,i,j,w,h)\n",
    "                    right = compute_feature(x,i,j+w,w,h)\n",
    "                    matrices.append((right-left))\n",
    "                    \n",
    "                if(i+2*h-1<x.shape[1]):\n",
    "                    top = compute_feature(x,i,j,w,h)\n",
    "                    bottom = compute_feature(x,i+h,j,w,h)\n",
    "                    matrices.append((bottom-top))\n",
    "                w+=1\n",
    "            h+=1 \n"
   ]
  },
  {
   "cell_type": "code",
   "execution_count": 624,
   "metadata": {},
   "outputs": [
    {
     "data": {
      "text/plain": [
       "[1, 1, 1, 2, 2, 2, 2, 3, 3, 3, 3, 4, 4, 4, 5, 6, 6, 6, 6, 6, 7, 7, 10, 12]"
      ]
     },
     "execution_count": 624,
     "metadata": {},
     "output_type": "execute_result"
    }
   ],
   "source": [
    "(sorted(matrices))"
   ]
  },
  {
   "cell_type": "code",
   "execution_count": null,
   "metadata": {},
   "outputs": [],
   "source": []
  },
  {
   "cell_type": "code",
   "execution_count": 625,
   "metadata": {},
   "outputs": [
    {
     "data": {
      "text/plain": [
       "[1, 1, 1, 2, 2, 2, 2, 3, 3, 3, 3, 4, 4, 4, 5, 6, 6, 6, 6, 6, 7, 7, 10, 12]"
      ]
     },
     "execution_count": 625,
     "metadata": {},
     "output_type": "execute_result"
    }
   ],
   "source": [
    "f = haar_like_feature(x,0,0,x.shape[1],x.shape[0],feature_type=[\"type-2-x\",\"type-2-y\"])\n",
    "\n",
    "sorted(f)"
   ]
  },
  {
   "cell_type": "code",
   "execution_count": null,
   "metadata": {},
   "outputs": [],
   "source": []
  },
  {
   "cell_type": "code",
   "execution_count": 586,
   "metadata": {},
   "outputs": [
    {
     "data": {
      "text/plain": [
       "array([[ 1,  3,  6],\n",
       "       [ 3,  9, 18],\n",
       "       [ 7, 21, 42]])"
      ]
     },
     "execution_count": 586,
     "metadata": {},
     "output_type": "execute_result"
    }
   ],
   "source": [
    "x"
   ]
  },
  {
   "cell_type": "code",
   "execution_count": 587,
   "metadata": {},
   "outputs": [
    {
     "data": {
      "text/plain": [
       "array([[ 1,  3,  6],\n",
       "       [ 3,  9, 18],\n",
       "       [ 7, 21, 42]])"
      ]
     },
     "execution_count": 587,
     "metadata": {},
     "output_type": "execute_result"
    }
   ],
   "source": [
    "tt"
   ]
  },
  {
   "cell_type": "code",
   "execution_count": null,
   "metadata": {},
   "outputs": [],
   "source": []
  },
  {
   "cell_type": "code",
   "execution_count": 580,
   "metadata": {},
   "outputs": [],
   "source": [
    "def compute_feature(ii, y, x, w, h):\n",
    "        BR = ii[y+h-1,x+w-1] \n",
    "        TL = ii[y-1,x-1] if y>0 and x>0 else 0 \n",
    "        TR = ii[y-1,x+w-1] if y>0 else 0 \n",
    "        BL = ii[y+h-1,x-1] if x>0 else 0 \n",
    "\n",
    "        return BR + TL - TR-BL"
   ]
  },
  {
   "cell_type": "code",
   "execution_count": 544,
   "metadata": {},
   "outputs": [
    {
     "data": {
      "text/plain": [
       "array([], dtype=int32)"
      ]
     },
     "execution_count": 544,
     "metadata": {},
     "output_type": "execute_result"
    }
   ],
   "source": [
    "x[0:0,1]"
   ]
  },
  {
   "cell_type": "code",
   "execution_count": null,
   "metadata": {},
   "outputs": [],
   "source": []
  },
  {
   "cell_type": "code",
   "execution_count": null,
   "metadata": {},
   "outputs": [],
   "source": []
  },
  {
   "cell_type": "code",
   "execution_count": null,
   "metadata": {},
   "outputs": [],
   "source": []
  }
 ],
 "metadata": {
  "kernelspec": {
   "display_name": "imganals",
   "language": "python",
   "name": "python3"
  },
  "language_info": {
   "codemirror_mode": {
    "name": "ipython",
    "version": 3
   },
   "file_extension": ".py",
   "mimetype": "text/x-python",
   "name": "python",
   "nbconvert_exporter": "python",
   "pygments_lexer": "ipython3",
   "version": "3.10.11"
  }
 },
 "nbformat": 4,
 "nbformat_minor": 2
}
