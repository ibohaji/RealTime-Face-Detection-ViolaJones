{
 "cells": [
  {
   "cell_type": "code",
   "execution_count": 1,
   "metadata": {},
   "outputs": [],
   "source": [
    "from skimage import io \n",
    "import pydicom as dicom\n",
    "import numpy as np \n",
    "import time\n",
    "from skimage.util import img_as_float\n",
    "from skimage.util import img_as_ubyte\n",
    "import matplotlib.pyplot as plt \n",
    "from skimage import color\n",
    "from skimage.morphology import erosion, dilation, opening, closing,disk\n",
    "from skimage import measure\n",
    "from skimage.color import label2rgb\n",
    "import matplotlib.pyplot as plt \n"
   ]
  },
  {
   "cell_type": "code",
   "execution_count": 2,
   "metadata": {},
   "outputs": [
    {
     "name": "stdout",
     "output_type": "stream",
     "text": [
      "The data rate is approximately 22.89 megabytes per second.\n"
     ]
    }
   ],
   "source": [
    "# Given values\n",
    "frame_rate = 6.25  # frames per second\n",
    "channels = 3  # RGB\n",
    "bits_per_channel = 8  # 8 bits per channel\n",
    "image_size = 1600 * 800  # size of one image in pixels\n",
    "\n",
    "# Calculate bits per pixel\n",
    "bits_per_pixel = channels * bits_per_channel\n",
    "\n",
    "# Calculate data rate in bits per second\n",
    "data_rate_bits_per_sec = frame_rate * bits_per_pixel * image_size\n",
    "\n",
    "# Convert data rate to bytes per second\n",
    "data_rate_bytes_per_sec = data_rate_bits_per_sec / 8\n",
    "\n",
    "print(f\"The data rate is approximately {data_rate_bytes_per_sec / (1024 * 1024):.2f} megabytes per second.\")\n"
   ]
  },
  {
   "cell_type": "code",
   "execution_count": null,
   "metadata": {},
   "outputs": [],
   "source": []
  }
 ],
 "metadata": {
  "kernelspec": {
   "display_name": "imganals",
   "language": "python",
   "name": "python3"
  },
  "language_info": {
   "codemirror_mode": {
    "name": "ipython",
    "version": 3
   },
   "file_extension": ".py",
   "mimetype": "text/x-python",
   "name": "python",
   "nbconvert_exporter": "python",
   "pygments_lexer": "ipython3",
   "version": "3.10.11"
  }
 },
 "nbformat": 4,
 "nbformat_minor": 2
}
