{
 "cells": [
  {
   "cell_type": "code",
   "execution_count": 1,
   "metadata": {},
   "outputs": [],
   "source": [
    "from sklearn.decomposition import PCA \n",
    "from skimage import io \n",
    "from skimage.util import img_as_ubyte\n",
    "import matplotlib.pyplot as plt\n",
    "import numpy as np\n",
    "import glob\n",
    "from skimage.transform import SimilarityTransform\n",
    "from skimage.transform import warp\n",
    "import os\n",
    "import pathlib\n"
   ]
  },
  {
   "cell_type": "code",
   "execution_count": 2,
   "metadata": {},
   "outputs": [],
   "source": [
    "def read_landmark_file(file_name):\n",
    "    f = open(file_name, 'r')\n",
    "    lm_s = f.readline().strip().split(' ')\n",
    "    n_lms = int(lm_s[0])\n",
    "    if n_lms < 3:\n",
    "        print(f\"Not enough landmarks found\")\n",
    "        return None\n",
    "\n",
    "    new_lms = 3\n",
    "    # 3 landmarks each with (x,y)\n",
    "    lm = np.zeros((new_lms, 2))\n",
    "    for i in range(new_lms):\n",
    "        lm[i, 0] = lm_s[1 + i * 2]\n",
    "        lm[i, 1] = lm_s[2 + i * 2]\n",
    "    return lm"
   ]
  },
  {
   "cell_type": "code",
   "execution_count": 3,
   "metadata": {},
   "outputs": [],
   "source": [
    "def align_and_crop_one_cat_to_destination_cat(img_src, lm_src, img_dst, lm_dst):\n",
    "    \"\"\"\n",
    "    Landmark based alignment of one cat image to a destination\n",
    "    :param img_src: Image of source cat\n",
    "    :param lm_src: Landmarks for source cat\n",
    "    :param lm_dst: Landmarks for destination cat\n",
    "    :return: Warped and cropped source image. None if something did not work\n",
    "    \"\"\"\n",
    "    tform = SimilarityTransform()\n",
    "    tform.estimate(lm_src, lm_dst)\n",
    "    warped = warp(img_src, tform.inverse, output_shape=img_dst.shape)\n",
    "\n",
    "    # Center of crop region\n",
    "    cy = 185\n",
    "    cx = 210\n",
    "    # half the size of the crop box\n",
    "    sz = 180\n",
    "    warp_crop = warped[cy - sz:cy + sz, cx - sz:cx + sz]\n",
    "    shape = warp_crop.shape\n",
    "    if shape[0] == sz * 2 and shape[1] == sz * 2:\n",
    "        return img_as_ubyte(warp_crop)\n",
    "    else:\n",
    "        print(f\"Could not crop image. It has shape {shape}. Probably to close to border of image\")\n",
    "        return None"
   ]
  },
  {
   "cell_type": "code",
   "execution_count": 4,
   "metadata": {},
   "outputs": [],
   "source": [
    "def preprocess_all_cats(in_dir, out_dir):\n",
    "    \"\"\"\n",
    "    Create aligned and cropped version of image\n",
    "    :param in_dir: Where are the original photos and landmark files\n",
    "    :param out_dir: Where should the preprocessed files be placed\n",
    "    \"\"\"\n",
    "    dst = \"data/ModelCat\"\n",
    "    dst_lm = read_landmark_file(f\"{dst}.jpg.cat\")\n",
    "    dst_img = io.imread(f\"{dst}.jpg\")\n",
    "\n",
    "    all_images = glob.glob(in_dir + \"*.jpg\")\n",
    "    for img_idx in all_images:\n",
    "        name_no_ext = os.path.splitext(img_idx)[0]\n",
    "        base_name = os.path.basename(name_no_ext)\n",
    "        out_name = f\"{out_dir}/{base_name}_preprocessed.jpg\"\n",
    "\n",
    "        src_lm = read_landmark_file(f\"{name_no_ext}.jpg.cat\")\n",
    "        src_img = io.imread(f\"{name_no_ext}.jpg\")\n",
    "\n",
    "        proc_img = align_and_crop_one_cat_to_destination_cat(src_img, src_lm, dst_img, dst_lm)\n",
    "        if proc_img is not None:\n",
    "            io.imsave(out_name, proc_img)"
   ]
  },
  {
   "cell_type": "code",
   "execution_count": 6,
   "metadata": {},
   "outputs": [],
   "source": [
    "def create_u_byte_image_from_vector(im_vec, height, width, channels):\n",
    "    min_val = im_vec.min()\n",
    "    max_val = im_vec.max()\n",
    "\n",
    "    # Transform to [0, 1]\n",
    "    im_vec = np.subtract(im_vec, min_val)\n",
    "    im_vec = np.divide(im_vec, max_val - min_val)\n",
    "    im_vec = im_vec.reshape(height, width, channels)\n",
    "    im_out = img_as_ubyte(im_vec)\n",
    "    return im_out"
   ]
  },
  {
   "cell_type": "code",
   "execution_count": 19,
   "metadata": {},
   "outputs": [
    {
     "ename": "FileNotFoundError",
     "evalue": "[Errno 2] No such file or directory: 'training'",
     "output_type": "error",
     "traceback": [
      "\u001b[1;31m---------------------------------------------------------------------------\u001b[0m",
      "\u001b[1;31mFileNotFoundError\u001b[0m                         Traceback (most recent call last)",
      "Cell \u001b[1;32mIn[19], line 2\u001b[0m\n\u001b[0;32m      1\u001b[0m dirr \u001b[38;5;241m=\u001b[39m \u001b[38;5;124m\"\u001b[39m\u001b[38;5;124mtraining\u001b[39m\u001b[38;5;124m\"\u001b[39m\n\u001b[1;32m----> 2\u001b[0m imgs \u001b[38;5;241m=\u001b[39m \u001b[43mread_landmark_file\u001b[49m\u001b[43m(\u001b[49m\u001b[43mdirr\u001b[49m\u001b[43m)\u001b[49m\n",
      "Cell \u001b[1;32mIn[2], line 2\u001b[0m, in \u001b[0;36mread_landmark_file\u001b[1;34m(file_name)\u001b[0m\n\u001b[0;32m      1\u001b[0m \u001b[38;5;28;01mdef\u001b[39;00m \u001b[38;5;21mread_landmark_file\u001b[39m(file_name):\n\u001b[1;32m----> 2\u001b[0m     f \u001b[38;5;241m=\u001b[39m \u001b[38;5;28;43mopen\u001b[39;49m\u001b[43m(\u001b[49m\u001b[43mfile_name\u001b[49m\u001b[43m,\u001b[49m\u001b[43m \u001b[49m\u001b[38;5;124;43m'\u001b[39;49m\u001b[38;5;124;43mr\u001b[39;49m\u001b[38;5;124;43m'\u001b[39;49m\u001b[43m)\u001b[49m\n\u001b[0;32m      3\u001b[0m     lm_s \u001b[38;5;241m=\u001b[39m f\u001b[38;5;241m.\u001b[39mreadline()\u001b[38;5;241m.\u001b[39mstrip()\u001b[38;5;241m.\u001b[39msplit(\u001b[38;5;124m'\u001b[39m\u001b[38;5;124m \u001b[39m\u001b[38;5;124m'\u001b[39m)\n\u001b[0;32m      4\u001b[0m     n_lms \u001b[38;5;241m=\u001b[39m \u001b[38;5;28mint\u001b[39m(lm_s[\u001b[38;5;241m0\u001b[39m])\n",
      "File \u001b[1;32mc:\\Users\\User\\Documents\\imganalysis\\DTUImageAnalysis\\imganals\\lib\\site-packages\\IPython\\core\\interactiveshell.py:286\u001b[0m, in \u001b[0;36m_modified_open\u001b[1;34m(file, *args, **kwargs)\u001b[0m\n\u001b[0;32m    279\u001b[0m \u001b[38;5;28;01mif\u001b[39;00m file \u001b[38;5;129;01min\u001b[39;00m {\u001b[38;5;241m0\u001b[39m, \u001b[38;5;241m1\u001b[39m, \u001b[38;5;241m2\u001b[39m}:\n\u001b[0;32m    280\u001b[0m     \u001b[38;5;28;01mraise\u001b[39;00m \u001b[38;5;167;01mValueError\u001b[39;00m(\n\u001b[0;32m    281\u001b[0m         \u001b[38;5;124mf\u001b[39m\u001b[38;5;124m\"\u001b[39m\u001b[38;5;124mIPython won\u001b[39m\u001b[38;5;124m'\u001b[39m\u001b[38;5;124mt let you open fd=\u001b[39m\u001b[38;5;132;01m{\u001b[39;00mfile\u001b[38;5;132;01m}\u001b[39;00m\u001b[38;5;124m by default \u001b[39m\u001b[38;5;124m\"\u001b[39m\n\u001b[0;32m    282\u001b[0m         \u001b[38;5;124m\"\u001b[39m\u001b[38;5;124mas it is likely to crash IPython. If you know what you are doing, \u001b[39m\u001b[38;5;124m\"\u001b[39m\n\u001b[0;32m    283\u001b[0m         \u001b[38;5;124m\"\u001b[39m\u001b[38;5;124myou can use builtins\u001b[39m\u001b[38;5;124m'\u001b[39m\u001b[38;5;124m open.\u001b[39m\u001b[38;5;124m\"\u001b[39m\n\u001b[0;32m    284\u001b[0m     )\n\u001b[1;32m--> 286\u001b[0m \u001b[38;5;28;01mreturn\u001b[39;00m io_open(file, \u001b[38;5;241m*\u001b[39margs, \u001b[38;5;241m*\u001b[39m\u001b[38;5;241m*\u001b[39mkwargs)\n",
      "\u001b[1;31mFileNotFoundError\u001b[0m: [Errno 2] No such file or directory: 'training'"
     ]
    }
   ],
   "source": [
    "dirr = \"training\"\n",
    "imgs = read_landmark_file(dirr)"
   ]
  },
  {
   "cell_type": "code",
   "execution_count": null,
   "metadata": {},
   "outputs": [],
   "source": []
  }
 ],
 "metadata": {
  "kernelspec": {
   "display_name": "imganals",
   "language": "python",
   "name": "python3"
  },
  "language_info": {
   "codemirror_mode": {
    "name": "ipython",
    "version": 3
   },
   "file_extension": ".py",
   "mimetype": "text/x-python",
   "name": "python",
   "nbconvert_exporter": "python",
   "pygments_lexer": "ipython3",
   "version": "3.10.11"
  }
 },
 "nbformat": 4,
 "nbformat_minor": 2
}
